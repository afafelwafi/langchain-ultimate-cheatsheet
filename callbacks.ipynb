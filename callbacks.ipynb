{
 "cells": [
  {
   "cell_type": "markdown",
   "id": "a0afa540-f806-4f53-8525-7a4ef67b60a5",
   "metadata": {},
   "source": [
    "# Callbacks\n",
    "Callbacks in LangChain are functions or handlers that allow you to track and manage the execution of processes in real-time. They enable you to capture events, monitor progress, and perform actions during the execution of chains, agents, or models."
   ]
  },
  {
   "cell_type": "markdown",
   "id": "918c29d1-2ee9-4564-85ca-a5d9b4c51eb6",
   "metadata": {},
   "source": [
    "## Callbacks"
   ]
  },
  {
   "cell_type": "code",
   "execution_count": 4,
   "id": "48935087-5ed6-4686-8141-dbec24862323",
   "metadata": {},
   "outputs": [],
   "source": [
    "from langchain.callbacks import StdOutCallbackHandler\n",
    "from langchain.callbacks.streaming_stdout import StreamingStdOutCallbackHandler"
   ]
  },
  {
   "cell_type": "markdown",
   "id": "667eba7c-15b3-4b12-a585-9f92201dd2a8",
   "metadata": {},
   "source": [
    "- Standard callback handler"
   ]
  },
  {
   "cell_type": "code",
   "execution_count": null,
   "id": "b62273d4-e8a5-48d1-8cc6-b28418ba5d92",
   "metadata": {},
   "outputs": [],
   "source": [
    "handler = StdOutCallbackHandler()\n",
    "llm = ChatOpenAI(callbacks=[handler])"
   ]
  },
  {
   "cell_type": "markdown",
   "id": "f5c56079-e1c1-487a-805e-a01bcdda7b96",
   "metadata": {},
   "source": [
    "- Streaming callback handler"
   ]
  },
  {
   "cell_type": "code",
   "execution_count": null,
   "id": "dd9c7a42-d4a1-4b74-be65-484e899fe752",
   "metadata": {},
   "outputs": [],
   "source": [
    "streaming_handler = StreamingStdOutCallbackHandler()\n",
    "streaming_llm = ChatOpenAI(streaming=True, callbacks=[streaming_handler])"
   ]
  },
  {
   "cell_type": "markdown",
   "id": "86973dd9-f41c-44a0-8e46-02432ab003ad",
   "metadata": {},
   "source": [
    "- Custom callback handler"
   ]
  },
  {
   "cell_type": "code",
   "execution_count": 5,
   "id": "86e583d8-3b7c-4799-8cc4-fc65655d774d",
   "metadata": {},
   "outputs": [],
   "source": [
    "from langchain.callbacks.base import BaseCallbackHandler\n",
    "\n",
    "class CustomHandler(BaseCallbackHandler):\n",
    "    def on_llm_start(self, serialized, prompts, **kwargs):\n",
    "        print(f\"LLM starting with prompts: {prompts}\")\n",
    "    \n",
    "    def on_llm_end(self, response, **kwargs):\n",
    "        print(f\"LLM ended with response: {response}\")\n",
    "    \n",
    "    def on_chain_start(self, serialized, inputs, **kwargs):\n",
    "        print(f\"Chain starting with inputs: {inputs}\")\n",
    "    \n",
    "    def on_chain_end(self, outputs, **kwargs):\n",
    "        print(f\"Chain ended with outputs: {outputs}\")\n",
    "    \n",
    "    def on_tool_start(self, serialized, input_str, **kwargs):\n",
    "        print(f\"Tool starting with input: {input_str}\")\n",
    "    \n",
    "    def on_tool_end(self, output, **kwargs):\n",
    "        print(f\"Tool ended with output: {output}\")\n",
    "\n",
    "custom_handler = CustomHandler()\n",
    "# agent = initialize_agent(\n",
    "#     tools,\n",
    "#     llm,\n",
    "#     agent=AgentType.ZERO_SHOT_REACT_DESCRIPTION,\n",
    "#     callbacks=[custom_handler],\n",
    "#     verbose=True\n",
    "# )"
   ]
  }
 ],
 "metadata": {
  "kernelspec": {
   "display_name": "Python 3 (ipykernel)",
   "language": "python",
   "name": "python3"
  },
  "language_info": {
   "codemirror_mode": {
    "name": "ipython",
    "version": 3
   },
   "file_extension": ".py",
   "mimetype": "text/x-python",
   "name": "python",
   "nbconvert_exporter": "python",
   "pygments_lexer": "ipython3",
   "version": "3.11.0rc1"
  }
 },
 "nbformat": 4,
 "nbformat_minor": 5
}
