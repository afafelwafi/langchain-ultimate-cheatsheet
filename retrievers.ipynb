{
 "cells": [
  {
   "cell_type": "markdown",
   "id": "f52bb362-6145-4076-befd-0ae1063acce0",
   "metadata": {},
   "source": [
    "# Retrievers\n",
    "\n",
    "Retrievers are components that handle the process of searching and retrieving relevant documents or data based on a query. They are used to find the most relevant pieces of information (e.g., documents, embeddings) from a large collection or knowledge base in response to a user’s query.\n",
    "\n",
    "Key Points:\n",
    "- Retrieval Process: A retriever typically performs similarity search or other retrieval strategies to find documents that are most relevant to the query.\n",
    "- Integration with Vector Stores: Retrievers often interact with vector stores (e.g., Pinecone, FAISS) to perform efficient similarity searches by comparing the query vector to stored vectors."
   ]
  },
  {
   "cell_type": "markdown",
   "id": "03a2a0aa-8961-4724-8ebd-9eaa55d1eccc",
   "metadata": {},
   "source": [
    "- Setup\n",
    "  \n",
    "You can update and chnage the setup (documents, llm, embeddings, vectorstore ) following your preferences and your API calls"
   ]
  },
  {
   "cell_type": "code",
   "execution_count": 28,
   "id": "d4221699-1566-461b-8cda-61f04199c84a",
   "metadata": {},
   "outputs": [],
   "source": [
    "import warnings\n",
    "warnings.filterwarnings(\"ignore\")"
   ]
  },
  {
   "cell_type": "code",
   "execution_count": 5,
   "id": "e907e0be-7b7f-40d7-a9a3-1a362b05e5b7",
   "metadata": {},
   "outputs": [],
   "source": [
    "from langchain_core.documents import Document\n",
    "\n",
    "# documents\n",
    "documents = [\n",
    "    Document(\n",
    "        page_content=\"Photosynthesis is the process by which green plants and some other organisms use sunlight to synthesize foods from carbon dioxide and water.\",\n",
    "        metadata={\n",
    "            \"source\": \"Biology Textbook\",\n",
    "            \"author\": \"Dr. Alice Green\",\n",
    "            \"date\": \"2021-03-15\"\n",
    "        }\n",
    "    ),\n",
    "    Document(\n",
    "        page_content=\"Quantum entanglement is a physical phenomenon that occurs when pairs or groups of particles are generated such that the quantum state of each particle cannot be described independently of the others.\",\n",
    "        metadata={\n",
    "            \"source\": \"Physics Journal\",\n",
    "            \"author\": \"Dr. John Quantum\",\n",
    "            \"date\": \"2022-06-01\"\n",
    "        }\n",
    "    ),\n",
    "    Document(\n",
    "        page_content=\"The theory of plate tectonics describes the large-scale motion of Earth's lithosphere and explains phenomena such as earthquakes and mountain formation.\",\n",
    "        metadata={\n",
    "            \"source\": \"Geology Magazine\",\n",
    "            \"author\": \"Dr. Emily Stone\",\n",
    "            \"date\": \"2020-11-23\"\n",
    "        }\n",
    "    ),\n",
    "    Document(\n",
    "        page_content=\"CRISPR is a powerful tool for editing genomes, allowing researchers to easily alter DNA sequences and modify gene function.\",\n",
    "        metadata={\n",
    "            \"source\": \"Genetics Weekly\",\n",
    "            \"author\": \"Dr. Rachel Gene\",\n",
    "            \"date\": \"2023-01-10\"\n",
    "        }\n",
    "    )\n",
    "]\n",
    "\n",
    "# query\n",
    "query_text = \"What is the theory of plate tectonics?\"\n",
    "\n",
    "# =================== Section to change according to your choice of APIs you have access to===============\n",
    "from langchain_huggingface import HuggingFaceEmbeddings, HuggingFaceEndpoint\n",
    "from langchain_chroma import Chroma\n",
    "# llm\n",
    "repo_id =\"tiiuae/falcon-rw-1b\"\n",
    "llm = HuggingFaceEndpoint(\n",
    "    repo_id = repo_id,\n",
    "     task=\"text-generation\",\n",
    "     temperature=0.5,\n",
    "    max_new_tokens=128 \n",
    ")\n",
    "\n",
    "# embeddings\n",
    "model_name = \"sentence-transformers/all-MiniLM-L6-v2\"\n",
    "text = \"Write a short poem about programming.\"\n",
    "embeddings = HuggingFaceEmbeddings(model_name=model_name)\n",
    "\n",
    "# Vectorstore from existing DB\n",
    "vectorstore = Chroma(\n",
    "    persist_directory=\"./db/chroma_db\",\n",
    "    embedding_function=embeddings\n",
    ")\n"
   ]
  },
  {
   "cell_type": "markdown",
   "id": "07e60c87-9606-4b2b-90d9-2454fcc8a9aa",
   "metadata": {},
   "source": [
    "## Vector Store Retrievers"
   ]
  },
  {
   "cell_type": "markdown",
   "id": "ebcc54eb-f31a-4e0e-a431-29b3ecda4e6c",
   "metadata": {},
   "source": [
    "- Basic retriever from vector store\n",
    "\n",
    "By default, FAISS retrieves vectors based on cosine similarity when performing a similarity search. This means it compares the angle between the query vector and stored vectors in the index, where smaller angles (or higher cosine similarity) indicate more relevant or similar vectors."
   ]
  },
  {
   "cell_type": "code",
   "execution_count": 6,
   "id": "0525cbd5-b231-4ce3-88b5-c7639481ef89",
   "metadata": {},
   "outputs": [
    {
     "name": "stdout",
     "output_type": "stream",
     "text": [
      "[Document(id='f55325f8-c96d-4b37-b17a-4ebeb978a845', metadata={'author': 'Dr. Emily Stone', 'date': '2020-11-23', 'source': 'Geology Magazine'}, page_content=\"The theory of plate tectonics describes the large-scale motion of Earth's lithosphere and explains phenomena such as earthquakes and mountain formation.\")]\n"
     ]
    }
   ],
   "source": [
    "retriever = vectorstore.as_retriever(search_kwargs={\"k\": 1})\n",
    "documents = retriever.get_relevant_documents(query_text)\n",
    "print(documents)"
   ]
  },
  {
   "cell_type": "markdown",
   "id": "75c0e9a7-3c53-43de-88f4-8129399b78f3",
   "metadata": {},
   "source": [
    "- Perform similarity search with scores"
   ]
  },
  {
   "cell_type": "code",
   "execution_count": 11,
   "id": "f55a00f0-3dba-40f0-852d-440fdbcf35a6",
   "metadata": {},
   "outputs": [
    {
     "name": "stdout",
     "output_type": "stream",
     "text": [
      "Score: 0.4785\n",
      "Content: The theory of plate tectonics describes the large-scale motion of Earth's lithosphere and explains phenomena such as earthquakes and mountain formation.\n",
      "---\n",
      "Score: 0.4785\n",
      "Content: The theory of plate tectonics describes the large-scale motion of Earth's lithosphere and explains phenomena such as earthquakes and mountain formation.\n",
      "---\n",
      "Score: 0.4785\n",
      "Content: The theory of plate tectonics describes the large-scale motion of Earth's lithosphere and explains phenomena such as earthquakes and mountain formation.\n",
      "---\n",
      "Score: 0.4785\n",
      "Content: The theory of plate tectonics describes the large-scale motion of Earth's lithosphere and explains phenomena such as earthquakes and mountain formation.\n",
      "---\n",
      "Score: 1.9094\n",
      "Content: Quantum entanglement is a physical phenomenon that occurs when pairs or groups of particles are generated such that the quantum state of each particle cannot be described independently of the others.\n",
      "---\n",
      "Score: 1.9094\n",
      "Content: Quantum entanglement is a physical phenomenon that occurs when pairs or groups of particles are generated such that the quantum state of each particle cannot be described independently of the others.\n",
      "---\n"
     ]
    }
   ],
   "source": [
    "query_embedding = embeddings.embed_query(query_text)\n",
    "\n",
    "docs_and_scores = vectorstore.similarity_search_with_score(\n",
    "    query = query_text,\n",
    "    k=6\n",
    ")\n",
    "\n",
    "# Display documents with similarity scores\n",
    "for doc, score in docs_and_scores:\n",
    "    print(f\"Score: {score:.4f}\")\n",
    "    print(f\"Content: {doc.page_content}\\n---\")\n",
    "\n",
    "# The lower the score, the more similar the document (since FAISS uses L2 distance when computing scores)."
   ]
  },
  {
   "cell_type": "markdown",
   "id": "c7e79473-3ff1-4af5-9fc1-8b1ace01cae4",
   "metadata": {},
   "source": [
    "- Retriever with metadata filtering"
   ]
  },
  {
   "cell_type": "code",
   "execution_count": 15,
   "id": "df2b69d4-9b5e-4419-9c8e-cdc40dd8740f",
   "metadata": {},
   "outputs": [
    {
     "data": {
      "text/plain": [
       "[Document(id='f55325f8-c96d-4b37-b17a-4ebeb978a845', metadata={'author': 'Dr. Emily Stone', 'date': '2020-11-23', 'source': 'Geology Magazine'}, page_content=\"The theory of plate tectonics describes the large-scale motion of Earth's lithosphere and explains phenomena such as earthquakes and mountain formation.\")]"
      ]
     },
     "execution_count": 15,
     "metadata": {},
     "output_type": "execute_result"
    }
   ],
   "source": [
    "retriever = vectorstore.as_retriever(\n",
    "    search_type=\"similarity\",\n",
    "    search_kwargs={\n",
    "        \"k\": 1,\n",
    "        \"filter\": {\"source\": \"Geology Magazine\"} # we filter type of source \n",
    "    }\n",
    ")\n",
    "\n",
    "documents = retriever.get_relevant_documents(query_text)\n",
    "documents"
   ]
  },
  {
   "cell_type": "markdown",
   "id": "a4a24687-f6e5-4d8c-98b5-957b9eff2a35",
   "metadata": {},
   "source": [
    "-  MMR retriever (Maximum Marginal Relevance)\n",
    "\n",
    "Instead of relying only on similarity (cosine ), in MMR Diversity is also impprtant, Hence the first objective is \n",
    "- Relevance: to ensure that the retrieved documents are highly relevant to the query. This is usually determined by measuring the similarity between the document and the query.\n",
    "- Diversity: The second objective is to reduce redundancy in the returned documents by penalizing documents that are too similar to the ones already selected.\n",
    "\n",
    "The MMR score for a document is computed as:\n",
    "MMR(𝐷)=𝜆⋅Relevance(𝐷)−(1−𝜆)⋅Similarity(𝐷,already retrieved)\n",
    "Where:\n",
    "- Relevance(D) is the similarity between the document 𝐷 and the query.\n",
    "- Similarity(D, already retrieved) is the similarity between the document D and the already retrieved documents.\n",
    "- 𝜆 is a tuning parameter (usually between 0 and 1) that controls the trade-off between relevance and diversity."
   ]
  },
  {
   "cell_type": "code",
   "execution_count": 16,
   "id": "2976dc0d-996d-4db5-a6ae-c81ddc58ce0e",
   "metadata": {},
   "outputs": [],
   "source": [
    "retriever = vectorstore.as_retriever(\n",
    "    search_type=\"mmr\",\n",
    "    search_kwargs={\"k\": 4, \"fetch_k\": 10}\n",
    ")"
   ]
  },
  {
   "cell_type": "markdown",
   "id": "98d95299-18c5-4ed7-942a-968a3c9df02b",
   "metadata": {},
   "source": [
    "## Contextual Compression\n",
    "Contextual Compression is a retrieval technique in LangChain where less relevant or redundant parts of documents are automatically removed before being returned to the LLM. The idea is to compress the retrieved content based on the context of the user’s query."
   ]
  },
  {
   "cell_type": "code",
   "execution_count": 20,
   "id": "cc57ff04-61da-4643-b342-f2a9524d478b",
   "metadata": {},
   "outputs": [
    {
     "name": "stdout",
     "output_type": "stream",
     "text": [
      "[Document(metadata={'author': 'Dr. Emily Stone', 'date': '2020-11-23', 'source': 'Geology Magazine'}, page_content=\"The extracted relevant parts of the context are:\\n\\nThe theory of plate tectonics describes the large-scale motion of Earth's lithosphere and explains phenomena such as earthquakes and mountain formation.\"), Document(metadata={'author': 'Dr. Emily Stone', 'date': '2020-11-23', 'source': 'Geology Magazine'}, page_content=\"The extracted relevant parts are:\\n\\nThe theory of plate tectonics describes the large-scale motion of Earth's lithosphere and explains phenomena such as earthquakes and mountain formation.\"), Document(metadata={'author': 'Dr. Emily Stone', 'date': '2020-11-23', 'source': 'Geology Magazine'}, page_content=\"Extracted relevant parts:\\n\\nThe theory of plate tectonics describes the large-scale motion of Earth's lithosphere and explains phenomena such as earthquakes and mountain formation.\"), Document(metadata={'author': 'Dr. Emily Stone', 'date': '2020-11-23', 'source': 'Geology Magazine'}, page_content=\"The extracted relevant parts of the context are:\\n\\nThe theory of plate tectonics describes the large-scale motion of Earth's lithosphere and explains phenomena such as earthquakes and mountain formation.\")]\n"
     ]
    }
   ],
   "source": [
    "from langchain.retrievers.document_compressors import LLMChainExtractor\n",
    "from langchain.retrievers import ContextualCompressionRetriever\n",
    "\n",
    "# Create base retriever\n",
    "base_retriever = vectorstore.as_retriever(search_kwargs={\"k\": 5})\n",
    "\n",
    "# LLM-based document compressor\n",
    "compressor = LLMChainExtractor.from_llm(llm)\n",
    "\n",
    "# Create compression retriever\n",
    "compression_retriever = ContextualCompressionRetriever(\n",
    "    base_compressor=compressor,\n",
    "    base_retriever=base_retriever\n",
    ")\n",
    "\n",
    "# Get compressed results\n",
    "compressed_docs = compression_retriever.get_relevant_documents(query_text)\n",
    "print(compressed_docs)"
   ]
  },
  {
   "cell_type": "markdown",
   "id": "391d5d1e-1ce1-441a-9483-db8fff11dc7d",
   "metadata": {},
   "source": [
    "## Self-Query Retriever\n",
    "The Self-Query Retriever in LangChain is a powerful retriever that allows an LLM (like GPT) to automatically generate its own search query and filter conditions based on the user’s natural language question — without requiring you to manually define how to search your vector store.\n",
    "\n",
    "**PS: NOT SUPPORTED FOR FAISS**"
   ]
  },
  {
   "cell_type": "code",
   "execution_count": 22,
   "id": "e020b575-7014-40b9-9d7d-5cc296664d95",
   "metadata": {},
   "outputs": [
    {
     "name": "stdout",
     "output_type": "stream",
     "text": [
      "[Document(id='f55325f8-c96d-4b37-b17a-4ebeb978a845', metadata={'author': 'Dr. Emily Stone', 'date': '2020-11-23', 'source': 'Geology Magazine'}, page_content=\"The theory of plate tectonics describes the large-scale motion of Earth's lithosphere and explains phenomena such as earthquakes and mountain formation.\"), Document(id='001c2370-a108-477e-b23d-b357b349f4d4', metadata={'author': 'Dr. Emily Stone', 'date': '2020-11-23', 'source': 'Geology Magazine'}, page_content=\"The theory of plate tectonics describes the large-scale motion of Earth's lithosphere and explains phenomena such as earthquakes and mountain formation.\"), Document(id='fd03d92a-4313-4acc-927c-c3c9eea04d46', metadata={'author': 'Dr. Emily Stone', 'date': '2020-11-23', 'source': 'Geology Magazine'}, page_content=\"The theory of plate tectonics describes the large-scale motion of Earth's lithosphere and explains phenomena such as earthquakes and mountain formation.\"), Document(id='ad2f7074-8cd7-4541-b59d-73aa46cf8ab2', metadata={'author': 'Dr. Emily Stone', 'date': '2020-11-23', 'source': 'Geology Magazine'}, page_content=\"The theory of plate tectonics describes the large-scale motion of Earth's lithosphere and explains phenomena such as earthquakes and mountain formation.\")]\n"
     ]
    }
   ],
   "source": [
    "from langchain.retrievers.self_query.base import SelfQueryRetriever\n",
    "from langchain_core.pydantic_v1 import BaseModel, Field\n",
    "from typing import Optional\n",
    "\n",
    "# Define metadata schema\n",
    "class DocumentMetadataFilter(BaseModel):\n",
    "    source: Optional[str] = Field(description=\"The source of the document\")\n",
    "    author: Optional[str] = Field(description=\"The author of the document\")\n",
    "    date: Optional[str] = Field(description=\"The date the document was written\")\n",
    "\n",
    "# Create self-query retriever\n",
    "retriever = SelfQueryRetriever.from_llm(\n",
    "    llm=llm,\n",
    "    vectorstore=vectorstore,\n",
    "    document_contents=\"Documents about various science topics\",\n",
    "    metadata_field_info=[\n",
    "        {\"name\": \"source\", \"description\": \"The source of the document\"},\n",
    "        {\"name\": \"author\", \"description\": \"The author of the document\"},\n",
    "        {\"name\": \"date\", \"description\": \"The date the document was written\"}\n",
    "    ],\n",
    "    # structured_query_translator=StructuredQueryTranslator(),\n",
    ")\n",
    "\n",
    "# Query with automatic metadata filtering\n",
    "docs = retriever.get_relevant_documents(\n",
    "   query_text\n",
    ")\n",
    "\n",
    "print(docs)\n"
   ]
  }
 ],
 "metadata": {
  "kernelspec": {
   "display_name": "Python 3 (ipykernel)",
   "language": "python",
   "name": "python3"
  },
  "language_info": {
   "codemirror_mode": {
    "name": "ipython",
    "version": 3
   },
   "file_extension": ".py",
   "mimetype": "text/x-python",
   "name": "python",
   "nbconvert_exporter": "python",
   "pygments_lexer": "ipython3",
   "version": "3.11.0rc1"
  }
 },
 "nbformat": 4,
 "nbformat_minor": 5
}
